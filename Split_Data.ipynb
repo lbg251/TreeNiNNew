{
 "cells": [
  {
   "cell_type": "code",
   "execution_count": 1,
   "id": "6be08e35",
   "metadata": {},
   "outputs": [],
   "source": [
    "import numpy as np\n",
    "import torch\n",
    "import pprint\n",
    "import matplotlib.pyplot as plt\n",
    "import sys\n",
    "import pickle\n",
    "import argparse\n",
    "import logging\n",
    "import os\n",
    "import heapq\n",
    "import random\n",
    "import pickle\n",
    "import sys\n",
    "import pandas\n"
   ]
  },
  {
   "cell_type": "code",
   "execution_count": 2,
   "id": "a5de03dd",
   "metadata": {},
   "outputs": [
    {
     "name": "stdout",
     "output_type": "stream",
     "text": [
      "1\n",
      "2\n"
     ]
    }
   ],
   "source": [
    "param_list = []\n",
    "for i in range(1,3):\n",
    "    print(i)\n",
    "    param_list.append(pickle.load(open(\"../data/params\"+str(i)+\".pkl\",\"rb\")))"
   ]
  },
  {
   "cell_type": "code",
   "execution_count": 3,
   "id": "f76ba41a",
   "metadata": {},
   "outputs": [
    {
     "data": {
      "text/plain": [
       "[[100, 604, tensor(196.), 36.0, 2.108670177953863, 3.468405773832637],\n",
       " [100, 589, tensor(196.), 36.0, 4.945287403126166, 2.7330913264429393]]"
      ]
     },
     "execution_count": 3,
     "metadata": {},
     "output_type": "execute_result"
    }
   ],
   "source": [
    "param_list"
   ]
  },
  {
   "cell_type": "code",
   "execution_count": 4,
   "id": "dbc37343",
   "metadata": {},
   "outputs": [
    {
     "name": "stdout",
     "output_type": "stream",
     "text": [
      "1 [100, 604, tensor(196.), 36.0, 2.108670177953863, 3.468405773832637]\n",
      "2 [100, 589, tensor(196.), 36.0, 4.945287403126166, 2.7330913264429393]\n",
      "400\n"
     ]
    }
   ],
   "source": [
    "W_jets = []\n",
    "QCD_jets = []\n",
    "Jets = []\n",
    "for i,params in enumerate(param_list):\n",
    "    print(i+1,params)\n",
    "    jetP = params[1]\n",
    "    M2start = params[2]\n",
    "    pt_cut = params[3]\n",
    "    rate = params[4]\n",
    "    W_rate = params[5]\n",
    "    \n",
    "    QCD_aux = pickle.load(open(\"../data/QCD_jets\"+str(i+1)+\"_jetp_\"+str(jetP)+\"_lambda_\"+str(round(rate,3))+\"_ptcut_\"+str(round(float(pt_cut),3))+\".pkl\",\"rb\"))\n",
    "    QCD_jets.append(QCD_aux)\n",
    "    for j, jet in enumerate(QCD_aux):\n",
    "        Jets.append(jet)\n",
    "    W_aux = pickle.load(open(\"../data/W_jets\"+str(i+1)+\"_jetp_\"+str(jetP)+\"_lambda_\"+str(round(rate,3))+\"_ptcut_\"+str(round(float(pt_cut),3))+\"W_rate\"+str(W_rate)+\".pkl\",\"rb\"))\n",
    "    W_jets.append(W_aux)\n",
    "    for j, jet in enumerate(W_aux):\n",
    "        Jets.append(jet)\n",
    "\n",
    "\n",
    "num_jets = len(Jets)\n",
    "print(num_jets) "
   ]
  },
  {
   "cell_type": "code",
   "execution_count": 25,
   "id": "984c43f3",
   "metadata": {},
   "outputs": [
    {
     "data": {
      "text/plain": [
       "dict_keys(['root_id', 'tree', 'content', 'LambdaRoot', 'Lambda', 'Delta_0', 'pt_cut', 'algorithm', 'deltas', 'draws', 'leaves', 'M_Hard', 'logLH', 'dij', 'ConstPhi', 'PhiDelta', 'PhiDeltaRel'])"
      ]
     },
     "execution_count": 25,
     "metadata": {},
     "output_type": "execute_result"
    }
   ],
   "source": [
    "pickle.dump(Jets,open('code/top_reference_dataset/in_data/test.pkl', \"wb\"),protocol=2)\n",
    "Jets[1].keys()"
   ]
  },
  {
   "cell_type": "code",
   "execution_count": 5,
   "id": "0301afb3",
   "metadata": {},
   "outputs": [],
   "source": [
    "def plot_hist(bin_num, jets_1,jets_2,titl,jetType):\n",
    "    N_1 = [len(jet[\"leaves\"]) for jet in jets_1]\n",
    "    N_2 = [len(jet[\"leaves\"]) for jet in jets_2]\n",
    "    minBin = np.min(np.concatenate((N_1,N_2)))\n",
    "    maxBin = np.max(np.concatenate((N_1,N_2)))\n",
    "    bin_edges = np.arange(minBin-1,maxBin+1,bin_num)\n",
    "    print(minBin,maxBin,bin_edges)\n",
    "    fig2, (axes) = plt.subplots(nrows = 1, ncols = 1)\n",
    "    fig2.set_size_inches(10,5)\n",
    "    plt.tight_layout(pad= 0.4, w_pad = 5, h_pad = 1.0)\n",
    "    if jetType == 'Same':\n",
    "        axes.hist( N_1, histtype = 'step',bins = bin_edges, edgecolor = \"c\", fill = False, align = 'mid', label = \"(lam, ptc) = \"+str(get_params(jets_1,\"Lambda\", \"pt_cut\")), density = True)\n",
    "        axes.hist(N_2, histtype = 'step',bins = bin_edges,edgecolor = \"m\", fill = False,align = 'mid', label = \"(lam, ptc) = \"+str(get_params(jets_2,\"Lambda\", \"pt_cut\")),density = True)\n",
    "    else:\n",
    "        axes.hist(N_1, histtype = 'step',bins = bin_edges, edgecolor = \"c\",fill = False, align = 'mid', label = r\"$H_0$\", density = True)\n",
    "        axes.hist(N_2, histtype = 'step',bins = bin_edges,edgecolor = \"m\",fill = False,align = 'mid', label =r\"$H_1$\",density = True)\n",
    "\n",
    "    axes.set_xlabel(r\"$N_{leaves}$\", fontsize = 15)\n",
    "    axes.set_ylabel(r\"$p\\left(N_{leaves}\\right)$\", fontsize = 15)\n",
    "\n",
    "    axes.legend(loc = 'best', fontsize = 15)\n",
    "    axes.grid(False)\n",
    " #   titl = '(pt_cut, rr) = '+ str(par)\n",
    "    axes.set_title(titl)\n",
    "\n",
    "\n"
   ]
  },
  {
   "cell_type": "code",
   "execution_count": 6,
   "id": "0ab0bc34",
   "metadata": {},
   "outputs": [
    {
     "name": "stdout",
     "output_type": "stream",
     "text": [
      "2 4 [1 2 3 4]\n",
      "2 6 [1 2 3 4 5 6]\n"
     ]
    }
   ],
   "source": [
    "plot_hist(1,QCD_jets[1],W_jets[1],' ',\"Diff\")\n",
    "plot_hist(1,QCD_jets[0],W_jets[0],' ',\"Diff\")\n"
   ]
  },
  {
   "cell_type": "markdown",
   "id": "c93b28a3",
   "metadata": {},
   "source": [
    "# Reshuffle data and save in train, dev, and test sets\n",
    "### replaces preprocessing for now (no alignment with phi=0, etc.) "
   ]
  },
  {
   "cell_type": "code",
   "execution_count": 26,
   "id": "8d584376",
   "metadata": {},
   "outputs": [],
   "source": [
    "##Flatten Lists \n",
    "num = num_jets//2\n",
    "W_flat = [item for sublist in W_jets for item in sublist]\n",
    "QCD_flat = [item for sublist in QCD_jets for item in sublist]\n",
    "el = np.arange(num)\n",
    "random.shuffle(el) #Shuffle \n",
    "W_shuff = [W_flat[el[i]] for i in range(len(el))]\n",
    "QCD_shuff = [QCD_flat[el[i]] for i in range(len(el))]"
   ]
  },
  {
   "cell_type": "code",
   "execution_count": 27,
   "id": "d4b28434",
   "metadata": {},
   "outputs": [
    {
     "name": "stdout",
     "output_type": "stream",
     "text": [
      "True\n"
     ]
    }
   ],
   "source": [
    "##Sorting into train, val, and test sets\n",
    "\n",
    "n_train = 3*num//5\n",
    "n_val = num//5\n",
    "n_test = n_val\n",
    "print(n_train+n_val+n_test==num)\n",
    "\n",
    "train =W_shuff[0:n_train]+QCD_shuff[0:n_train]\n",
    "val = W_shuff[n_train+1:n_train+1+n_val]+QCD_shuff[n_train+1:n_train+1+n_val]\n",
    "test = W_shuff[n_train+2+n_val:n_train+2+n_val+n_test]+QCD_shuff[n_train+2+n_val:n_train+2+n_val+n_test]"
   ]
  },
  {
   "cell_type": "code",
   "execution_count": null,
   "id": "77af1267",
   "metadata": {},
   "outputs": [],
   "source": [
    "pickle.dump(train,open('/Users/laurengreenspan/Dropbox/JetTree/TreeNiNLG/code/top_reference_dataset/in_data/train.pkl', \"wb\"),protocol=2)\n",
    "pickle.dump(val,open('/Users/laurengreenspan/Dropbox/JetTree/TreeNiNLG/code/top_reference_dataset/in_data/val.pkl', \"wb\"),protocol=2)\n",
    "pickle.dump(test,open('/Users/laurengreenspan/Dropbox/JetTree/TreeNiNLG/code/top_reference_dataset/in_data/test.pkl', \"wb\"),protocol=2)\n"
   ]
  },
  {
   "cell_type": "code",
   "execution_count": 15,
   "id": "e959f79f",
   "metadata": {},
   "outputs": [],
   "source": []
  },
  {
   "cell_type": "markdown",
   "id": "55cff7b4",
   "metadata": {},
   "source": [
    "# Compare with toptag data\n"
   ]
  },
  {
   "cell_type": "markdown",
   "id": "2c18915d",
   "metadata": {},
   "source": [
    "#### Comparing ginkgo dictionaries to those of pre-processed jets"
   ]
  },
  {
   "cell_type": "code",
   "execution_count": 83,
   "id": "1088173a",
   "metadata": {},
   "outputs": [
    {
     "data": {
      "text/plain": [
       "[{'Z': [-19.51880448893779],\n",
       "  'trellis_MLE': [-20.466739116998035],\n",
       "  'RunTime': [0.016156911849975586],\n",
       "  'Ntrees': [15.0],\n",
       "  'totTrees': 1,\n",
       "  'Nleaves': [4],\n",
       "  'gt_llh': [-25.248253433580604]},\n",
       " {'Z': [-20.00970823028727],\n",
       "  'trellis_MLE': [-21.073448928925934],\n",
       "  'RunTime': [0.017107248306274414],\n",
       "  'Ntrees': [15.0],\n",
       "  'totTrees': 1,\n",
       "  'Nleaves': [4],\n",
       "  'gt_llh': [-25.248253433580604]}]"
      ]
     },
     "execution_count": 83,
     "metadata": {},
     "output_type": "execute_result"
    }
   ],
   "source": [
    "ginkgo_test = pickle.load(open('/Users/laurengreenspan/GitDLs/TreeNiNNew/code_ginkgo/raw_trees/ginkgo_10_jets_test.pkl',\"rb\"))\n",
    "Reclustered_test = pickle.load(open('/Users/laurengreenspan/GitDLs/TreeNiNNew/code_ginkgo/reclustered_trees/reclustered_10jets_test.pkl',\"rb\"))\n",
    "\n",
    "trellis_test = pickle.load(open('/Users/laurengreenspan/Dropbox/JetTree/data/trellis_10_jets_test','rb'))\n",
    "\n",
    "trellis_test[2]\n"
   ]
  },
  {
   "cell_type": "code",
   "execution_count": 58,
   "id": "4686498d",
   "metadata": {},
   "outputs": [
    {
     "name": "stdout",
     "output_type": "stream",
     "text": [
      "dict_keys(['root_id', 'tree', 'content', 'LambdaRoot', 'Lambda', 'Delta_0', 'pt_cut', 'algorithm', 'deltas', 'draws', 'leaves', 'M_Hard', 'logLH', 'dij', 'ConstPhi', 'PhiDelta', 'PhiDeltaRel'])\n",
      "dict_keys(['root_id', 'tree', 'content', 'mass', 'pt', 'energy', 'eta', 'phi'])\n",
      "(array([[230.94012312, 230.94012336, 230.94012409, 401.12344064],\n",
      "       [225.41658565, 226.32629416, 222.81322118, 390.25866201],\n",
      "       [179.00344387, 174.19877373, 169.76143509, 302.35334089],\n",
      "       [124.01684594, 120.25125398, 111.51363613, 205.76890678],\n",
      "       [ 74.04012761,  74.71065981,  69.14954786, 125.95558315],\n",
      "       [ 60.96763641,  60.75446465,  56.31661475, 102.91303267],\n",
      "       [ 13.0724912 ,  13.95619516,  12.83293311,  23.04255048],\n",
      "       [ 49.97671832,  45.54059417,  42.36408826,  79.81332363],\n",
      "       [ 54.98659793,  53.94751975,  58.24779896,  96.58443411],\n",
      "       [ 46.41314178,  52.12752042,  53.05178609,  87.90532112],\n",
      "       [ 35.8604571 ,  39.96187871,  40.59728283,  67.51756733],\n",
      "       [ 10.55268468,  12.16564171,  12.45450325,  20.38775379],\n",
      "       [  5.52353747,   4.61382921,   8.12690291,  10.86477863]]), array([[401.12341309, 230.94010768, 230.94010768, 230.94010768],\n",
      "       [174.96676526,  96.3705844 ,  98.52321932, 106.97197564],\n",
      "       [ 78.38234372,  41.38399339,  44.57570665,  48.72418436],\n",
      "       [ 67.51756733,  35.8604571 ,  39.96187871,  40.59728283],\n",
      "       [ 10.86477863,   5.52353747,   4.61382921,   8.12690291],\n",
      "       [ 96.58443411,  54.98659793,  53.94751975,  58.24779896],\n",
      "       [226.15666058, 134.56953062, 132.41689569, 123.96813938],\n",
      "       [ 79.81332363,  49.97671832,  45.54059417,  42.36408826],\n",
      "       [146.34333695,  84.5928123 ,  86.87630152,  81.60405112],\n",
      "       [ 23.04255048,  13.0724912 ,  13.95619516,  12.83293311],\n",
      "       [123.30078647,  71.52032109,  72.92010636,  68.77111801],\n",
      "       [102.91303267,  60.96763641,  60.75446465,  56.31661475],\n",
      "       [ 20.38775379,  10.55268468,  12.16564171,  12.45450325]]))\n"
     ]
    },
    {
     "data": {
      "text/plain": [
       "array([67.51756733, 35.8604571 , 39.96187871, 40.59728283])"
      ]
     },
     "execution_count": 58,
     "metadata": {},
     "output_type": "execute_result"
    }
   ],
   "source": [
    "ginkgo_keys = ginkgo_test[0].keys()\n",
    "TreeNiN_keys = Reclustered_test[0][0].keys()\n",
    "\n",
    "print(ginkgo_keys)\n",
    "print(TreeNiN_keys)\n",
    "\n",
    "print([(Reclustered_test[i][0]['content'],ginkgo_test[i]['content']) for i in range(len(Reclustered_test))][0])\n",
    "\n",
    "ginkgo_test[0]['leaves'][0]"
   ]
  },
  {
   "cell_type": "code",
   "execution_count": null,
   "id": "fa20c00e",
   "metadata": {},
   "outputs": [],
   "source": []
  },
  {
   "cell_type": "code",
   "execution_count": 75,
   "id": "edd583b1",
   "metadata": {},
   "outputs": [
    {
     "name": "stdout",
     "output_type": "stream",
     "text": [
      "401.1234130859375 401.1234451388827\n"
     ]
    }
   ],
   "source": [
    "dict_keys(['root_id', 'tree', 'content', 'mass', 'pt', 'energy', 'eta', 'phi'])\n",
    "\n",
    "\n",
    "new_dict = {}\n",
    "Pre_Jets1 = []\n",
    "jet = ginkgo_test[1]\n",
    "\n",
    "label = 0\n",
    "p = ((jet['content'][0,0:3]**2).sum())**0.5\n",
    "\n",
    "px = jet['content'][0,1]\n",
    "py = jet['content'][0,2]\n",
    "px = jet['content'][0,3]\n",
    "\n",
    "        \n",
    "pT = np.asarray([np.linalg.norm(const[1:3]) for const in jet[\"leaves\"]])\n",
    "        \n",
    "eta = 0.5 * (np.log(p+pz) - np.log(p-pz))\n",
    "phi = np.arctan2(py,px)\n",
    "\n",
    "new_dict['phi']=phi\n",
    "new_dict['pt']=pT\n",
    "new_dict['root_id']=jet['root_id']\n",
    "new_dict['energy']=jet['content'][0,0]\n",
    "new_dict['tree']=jet['tree']\n",
    "new_dict['content']=jet['content']##Ordering depends on pytorch or tf implementation\n",
    "new_dict['eta']=eta\n",
    "new_dict['mass']=jet['M_Hard']\n",
    "\n",
    "new_dict['truthLH']=jet['logLH']\n",
    "\n",
    "entry_test = 'energy'\n",
    "print(new_dict[entry_test],Reclustered_test[1][0][entry_test])\n",
    "output = (new_dict,label)"
   ]
  },
  {
   "cell_type": "code",
   "execution_count": null,
   "id": "d49a82fe",
   "metadata": {},
   "outputs": [],
   "source": []
  },
  {
   "cell_type": "code",
   "execution_count": 5,
   "id": "e5ce4f8f",
   "metadata": {},
   "outputs": [
    {
     "data": {
      "text/plain": [
       "<fastjet.PseudoJet; proxy of <Swig Object of type 'fastjet::PseudoJet *' at 0x7ff55eb635d0> >"
      ]
     },
     "execution_count": 5,
     "metadata": {},
     "output_type": "execute_result"
    }
   ],
   "source": [
    "import sys\n",
    "#sys.path.append(\"/Users/laurengreenspan/fastjet-install/lib/python3.8/site-packages\")\n",
    "import fastjet as fj\n",
    "fj.PseudoJet(1,1,1,1)"
   ]
  },
  {
   "cell_type": "code",
   "execution_count": null,
   "id": "468dd781",
   "metadata": {},
   "outputs": [],
   "source": []
  },
  {
   "cell_type": "code",
   "execution_count": null,
   "id": "7eb80326",
   "metadata": {},
   "outputs": [],
   "source": []
  }
 ],
 "metadata": {
  "kernelspec": {
   "display_name": "Python 3 (ipykernel)",
   "language": "python",
   "name": "python3"
  },
  "language_info": {
   "codemirror_mode": {
    "name": "ipython",
    "version": 3
   },
   "file_extension": ".py",
   "mimetype": "text/x-python",
   "name": "python",
   "nbconvert_exporter": "python",
   "pygments_lexer": "ipython3",
   "version": "3.8.10"
  }
 },
 "nbformat": 4,
 "nbformat_minor": 5
}
