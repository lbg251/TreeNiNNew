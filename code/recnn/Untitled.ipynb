{
 "cells": [
  {
   "cell_type": "code",
   "execution_count": null,
   "id": "944e58e3",
   "metadata": {},
   "outputs": [],
   "source": [
    "module purge\n",
    "\n",
    "singularity exec $nv \\\n",
    "            --overlay $SCRATCH/environments/overlay_pytorch.ext3:ro \\\n",
    "            /scratch/work/public/singularity/cuda11.0-cudnn8-devel-ubuntu18.04.sif \\\n",
    "            /bin/bash -c \"\n",
    "source /ext3/env.sh\n",
    "\n",
    "cd code_ginkgo/recnn\n",
    "python search_hyperparams.py  --jet_algorithm=antikt --NrunStart=0 --NrunFinish=1 --gpu=0\n",
    "\"\n",
    "\n",
    "\n",
    "workflow: \n",
    "\n"
   ]
  }
 ],
 "metadata": {
  "kernelspec": {
   "display_name": "Python 3 (ipykernel)",
   "language": "python",
   "name": "python3"
  },
  "language_info": {
   "codemirror_mode": {
    "name": "ipython",
    "version": 3
   },
   "file_extension": ".py",
   "mimetype": "text/x-python",
   "name": "python",
   "nbconvert_exporter": "python",
   "pygments_lexer": "ipython3",
   "version": "3.8.10"
  }
 },
 "nbformat": 4,
 "nbformat_minor": 5
}
