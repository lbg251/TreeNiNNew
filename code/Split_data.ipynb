{
 "cells": [
  {
   "cell_type": "code",
   "execution_count": 1,
   "id": "fcc3eaf8",
   "metadata": {},
   "outputs": [],
   "source": [
    "import numpy \n",
    "import pickle"
   ]
  },
  {
   "cell_type": "code",
   "execution_count": 17,
   "id": "9f70410a",
   "metadata": {},
   "outputs": [],
   "source": [
    "input_path=\"/Users/laurengreenspan/GitDLs/TreeNiN/code/top_reference_dataset/out_data/\"\n",
    "input_jets=pickle.load(open(input_path+\"val_jets.pkl\",\"rb\"))\n"
   ]
  },
  {
   "cell_type": "code",
   "execution_count": 18,
   "id": "5ed205e1",
   "metadata": {},
   "outputs": [],
   "source": [
    "output_path = input_path #Making the dataset smaller"
   ]
  },
  {
   "cell_type": "code",
   "execution_count": 19,
   "id": "05520cec",
   "metadata": {},
   "outputs": [
    {
     "name": "stdout",
     "output_type": "stream",
     "text": [
      "3000\n",
      "True\n"
     ]
    }
   ],
   "source": [
    "num=len(input_jets)\n",
    "print(num)\n",
    "n_train = 3*num//5\n",
    "n_val = num//5\n",
    "n_test = n_val\n",
    "print(n_train+n_val+n_test==num)\n",
    "\n",
    "train =input_jets[0:n_train]\n",
    "val = input_jets[n_train+1:n_train+1+n_val]\n",
    "test = input_jets[n_train+2+n_val:n_train+2+n_val+n_test]"
   ]
  },
  {
   "cell_type": "code",
   "execution_count": 20,
   "id": "84d43139",
   "metadata": {},
   "outputs": [],
   "source": [
    "pickle.dump(train,open(output_path+'train_jets.pkl', \"wb\"),protocol=2)\n",
    "pickle.dump(val,open(output_path+'val_jets.pkl', \"wb\"),protocol=2)\n",
    "pickle.dump(test,open(output_path+'test_jets.pkl', \"wb\"),protocol=2)\n"
   ]
  },
  {
   "cell_type": "code",
   "execution_count": 21,
   "id": "2507fa2e",
   "metadata": {},
   "outputs": [
    {
     "name": "stdout",
     "output_type": "stream",
     "text": [
      "1800\n",
      "600\n",
      "598\n"
     ]
    }
   ],
   "source": [
    "print(len(train))\n",
    "print(len(val))\n",
    "print(len(test))"
   ]
  },
  {
   "cell_type": "code",
   "execution_count": null,
   "id": "0a7921a2",
   "metadata": {},
   "outputs": [],
   "source": []
  }
 ],
 "metadata": {
  "kernelspec": {
   "display_name": "Python 3 (ipykernel)",
   "language": "python",
   "name": "python3"
  },
  "language_info": {
   "codemirror_mode": {
    "name": "ipython",
    "version": 3
   },
   "file_extension": ".py",
   "mimetype": "text/x-python",
   "name": "python",
   "nbconvert_exporter": "python",
   "pygments_lexer": "ipython3",
   "version": "3.8.10"
  }
 },
 "nbformat": 4,
 "nbformat_minor": 5
}
